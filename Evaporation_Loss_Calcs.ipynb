{
 "cells": [
  {
   "cell_type": "markdown",
   "id": "9f4dfa7f-6236-41e3-8633-36c832f682d5",
   "metadata": {},
   "source": [
    "# Evaporation Loss Calculations"
   ]
  },
  {
   "cell_type": "markdown",
   "id": "16404278-8739-4f70-9939-4c72b0f4e2a2",
   "metadata": {
    "tags": []
   },
   "source": [
    "## Assumptions:\n",
    "- Fixed Roof tanks\n",
    "- Horizontal tanks\n",
    "- True vapor pressure less than 1Psia'\n",
    "- Cone shaped top\n",
    "- Ls = 0 (since underground horizontal tank - assume that there is no breathing or standing storage losses because the insulating nature of earth limits the diurnal temperature change\n",
    "- R = 10.731 psia ft^3/lb-mole °R\n",
    "- Assuming no mixture of liquids stored in tanks\n",
    "- Tanks have open vents\n",
    "- Californian states have similar weather to Durban so will use those weather conditions to approximate and emulate by using the average insulation factor\n",
    "- Working loss product factor (organic liquid is assumed)"
   ]
  },
  {
   "cell_type": "code",
   "execution_count": 154,
   "id": "c031c5dd-f2ed-4053-b8fb-6ceb85f31154",
   "metadata": {},
   "outputs": [
    {
     "name": "stdout",
     "output_type": "stream",
     "text": [
      "<class 'float'>\n",
      "7.5 7.0\n",
      "check 7.9\n",
      "7.9\n",
      "The total Losses is 1913.256471662748 Lb/yr\n"
     ]
    }
   ],
   "source": [
    "Annual_Net_Throughput = 86533  # KG\n",
    "Maximum_Capacity_of_Tank = 33254 # KG\n",
    "Number_of_turnovers_per_year = float(Annual_Net_Throughput/ Maximum_Capacity_of_Tank)   # (years)^-1\n",
    "                                                                                   # Need to specify float or integer to ouput the decimal called casting\n",
    "print (type(Number_of_turnovers_per_year))   # this will display type of variable\n",
    "Maximum_liquid_height, Diameter = 7.5, 7.0  # can assign two variables at once, both in ft\n",
    "print (Maximum_liquid_height, Diameter)  # this will print out the two variables\n",
    "Diam = Diameter = float(7.9)  # can update the diameter value and assign to another variable called Diam\n",
    "print (\"check \" + str(Diam))\n",
    "print(Diam/1)  # can do numerical operations in print statement\n",
    "\n",
    "def working_loss_turnover():         # this function calculates turnover saturation factor and assigns output to array\n",
    "                                     # can use if else statement to access variable outside of function                                                            # if a variable is created within the function and is not declared as global it can't be accessed externally from the function\n",
    " if Number_of_turnovers_per_year  > 36:\n",
    "     a = (180 + Number_of_turnovers_per_year )/(6 * Number_of_turnovers_per_year )\n",
    "     print(a)\n",
    "\n",
    " else:\n",
    "     a=1          \n",
    "     print(a)\n",
    "\n",
    "import math\n",
    "Working_Loss_Array = [a, 2]   # if I had an array with the working loss factor, I can assign to variables as below\n",
    "Working_Loss_Turnover_Saturation_Factor, Working_Loss_Product_Factor = Working_Loss_Array # this can be done with strings as well\n",
    "Vent_Setting_Correction_Factor = 1          # dimensionless\n",
    "vapor_molecular_weight =106.16              # lb/lb-mole\n",
    "The_ideal_gas_constant = 10.731             # psia ft^3/lb-mole °R\n",
    "Vapor_density = 1\n",
    "Constant_A = 7.009                          # dimensionless\n",
    "Constant_B = 1426.266                       # deg C\n",
    "Constant_C = 215.11                         # deg C   \n",
    "Daily_minimum_ambient_temperature = 516.87  # Rankine\n",
    "Daily_maximum_ambient_temperature = 542.07  # Rankine\n",
    "Daily_average_ambient_temperature = (Daily_minimum_ambient_temperature + Daily_maximum_ambient_temperature)/2\n",
    "Tank_paint_solar_absorptance = 0.68         #dimensionless\n",
    "Liquid_Bulk_Temperature = Daily_average_ambient_temperature+(6*Tank_paint_solar_absorptance)-1\n",
    "Daily_Total_Solar_insolation_factor = 1600 # Btu/(ft^2day)\n",
    "Daily_average_liquid_surface_temperature_in_R = 0.4*(Daily_average_ambient_temperature)+0.56*(Liquid_Bulk_Temperature)+0.0079*Tank_paint_solar_absorptance*Daily_Total_Solar_insolation_factor\n",
    "Daily_average_liquid_surface_temperature_in_DegC = (Daily_average_liquid_surface_temperature_in_R - 491.67)* 5/9\n",
    "vapor_pressure_at_daily_average_liquid_surface_temperature = math.exp(Constant_A-(Constant_B/(Daily_average_liquid_surface_temperature_in_DegC + Constant_C))) # in mmHG\n",
    "vapor_pressure_at_daily_average_liquid_surface_temperature_Psia = vapor_pressure_at_daily_average_liquid_surface_temperature/51.715\n",
    "Working_losses = Number_of_turnovers_per_year*Maximum_liquid_height*(math.pi/4)*(Diameter)**2*Working_Loss_Turnover_Saturation_Factor*Working_Loss_Product_Factor*Vapor_density*Vent_Setting_Correction_Factor  \n",
    "Standing_Storage_losses =0\n",
    "Total_losses = Working_losses + Standing_Storage_losses                                     # lb/yr\n",
    "\n",
    "print(\"The total Losses is \" + str(Total_losses) + \" Lb/yr\")"
   ]
  }
 ],
 "metadata": {
  "kernelspec": {
   "display_name": "Python 3 (ipykernel)",
   "language": "python",
   "name": "python3"
  },
  "language_info": {
   "codemirror_mode": {
    "name": "ipython",
    "version": 3
   },
   "file_extension": ".py",
   "mimetype": "text/x-python",
   "name": "python",
   "nbconvert_exporter": "python",
   "pygments_lexer": "ipython3",
   "version": "3.9.12"
  }
 },
 "nbformat": 4,
 "nbformat_minor": 5
}
